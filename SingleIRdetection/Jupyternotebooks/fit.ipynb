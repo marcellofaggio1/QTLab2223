{
 "cells": [
  {
   "cell_type": "code",
   "execution_count": 49,
   "metadata": {},
   "outputs": [],
   "source": [
    "import cmath\n",
    "from iminuit.cost import LeastSquares\n",
    "from iminuit import cost\n",
    "from iminuit import Minuit\n",
    "import numpy as np\n",
    "from matplotlib import pyplot as plt\n",
    "\n",
    "\n",
    "f = open('gap1.txt', \"r\")\n",
    "lines = f.readlines()\n",
    "freq = []\n",
    "I = []\n",
    "Q = []\n",
    "for x in lines:\n",
    "    freq.append(float(x.split(',')[0]))\n",
    "    I.append(float(x.split(',')[1]))\n",
    "    Q.append(float(x.split(',')[2]))\n",
    "\n",
    "f.close()\n",
    "\n"
   ]
  },
  {
   "cell_type": "code",
   "execution_count": 100,
   "metadata": {},
   "outputs": [
    {
     "data": {
      "text/plain": [
       "[<matplotlib.lines.Line2D at 0x1f0b1f5d160>]"
      ]
     },
     "execution_count": 100,
     "metadata": {},
     "output_type": "execute_result"
    },
    {
     "data": {
      "image/png": "[encoded data removed]",
      "text/plain": [
       "<Figure size 432x288 with 1 Axes>"
      ]
     },
     "metadata": {
      "needs_background": "light"
     },
     "output_type": "display_data"
    }
   ],
   "source": [
    "fmin = 50\n",
    "par = [1, 1e3, 6e4, -0.5, 0, -1e-9, -1e-19, 0]\n",
    "\n",
    "def s21_module(x, a, b, c, d, e, f, g, h):\n",
    "    return abs(f*x + g*x**2 + h*x**3 + a*(1-b*(b**(-1) - (c)**(-1))/(1 + 2j*b*(x - e)/e)))\n",
    "    #abs(f*x + g*x**2 + h*x**3 + a*(1-cmath.exp(1j*d*b*(b**(-1) - (c)**(-1))/(1 + 2j*b*(x - e)/fmin))))\n",
    "\n",
    "x=np.linspace(3.158000E+9,3.178000E+9,1601)\n",
    "#x = np.linspace(-3.14, 100, 1601)\n",
    "\n",
    "def s21(x, p1, p2, p3, p4, p5):\n",
    "    return abs((1 - p2*(p2**(-1) - (p3)**(-1)) / (1 + 2j * p2 * ( x - p5 ) / p5 )))\n",
    "\n",
    "#def s21_module(x):\n",
    "#    return abs()\n",
    "\n",
    "yvalues = np.zeros(len(freq))\n",
    "for i in range(0,len(freq)):\n",
    "    #yvalues[i] = abs(1j*math.cos(x[i]))\n",
    "    yvalues[i] = s21(x[i], 1, 1400, 1461, -0.5, 3.165*10**9)\n",
    "    #yvalues[i] = np.sqrt(I[i]**2+Q[i]**2)\n",
    "\n",
    "\n",
    "\n",
    "phases = np.zeros(len(freq))\n",
    "for i in range(0, len(freq)):\n",
    "    phases[i] = math.atan(Q[i]/I[i])\n",
    "\n",
    "plt.plot(x, yvalues)\n",
    "#x = np.arange(5.79*10**9, , 0.1)\n"
   ]
  },
  {
   "attachments": {},
   "cell_type": "markdown",
   "metadata": {},
   "source": [
    "Ora proviamo a fittare qualcosa"
   ]
  },
  {
   "cell_type": "code",
   "execution_count": 65,
   "metadata": {},
   "outputs": [
    {
     "name": "stdout",
     "output_type": "stream",
     "text": [
      "<ValueView a=1.0 b=1000.0 c=60000.0 d=-0.5 e=0.0 f=-1e-09 g=-1e-19 h=0.0>\n"
     ]
    },
    {
     "ename": "TypeError",
     "evalue": "can't multiply sequence by non-int of type 'float'",
     "output_type": "error",
     "traceback": [
      "\u001b[1;31m---------------------------------------------------------------------------\u001b[0m",
      "\u001b[1;31mTypeError\u001b[0m                                 Traceback (most recent call last)",
      "\u001b[1;32mc:\\Users\\marce\\OneDrive - Universita degli Studi di Milano-Bicocca\\Desktop\\UNI\\MAGISTRALE\\LABORATORIO TECNOLOGIE QUANTISTICHE\\programmi\\fit.ipynb Cella 4\u001b[0m in \u001b[0;36m<module>\u001b[1;34m\u001b[0m\n\u001b[0;32m      <a href='vscode-notebook-cell:/c%3A/Users/marce/OneDrive%20-%20Universita%20degli%20Studi%20di%20Milano-Bicocca/Desktop/UNI/MAGISTRALE/LABORATORIO%20TECNOLOGIE%20QUANTISTICHE/programmi/fit.ipynb#W3sZmlsZQ%3D%3D?line=1'>2</a>\u001b[0m m \u001b[39m=\u001b[39m Minuit(least_squares, a \u001b[39m=\u001b[39m \u001b[39m1\u001b[39m, b\u001b[39m=\u001b[39m \u001b[39m1e3\u001b[39m, c\u001b[39m=\u001b[39m \u001b[39m6e4\u001b[39m, d \u001b[39m=\u001b[39m \u001b[39m-\u001b[39m\u001b[39m0.5\u001b[39m, e\u001b[39m=\u001b[39m\u001b[39m0\u001b[39m, f \u001b[39m=\u001b[39m \u001b[39m-\u001b[39m\u001b[39m1e-9\u001b[39m, g \u001b[39m=\u001b[39m \u001b[39m-\u001b[39m\u001b[39m1e-19\u001b[39m, h \u001b[39m=\u001b[39m \u001b[39m0\u001b[39m)  \u001b[39m#starting values for our 8 parameters\u001b[39;00m\n\u001b[0;32m      <a href='vscode-notebook-cell:/c%3A/Users/marce/OneDrive%20-%20Universita%20degli%20Studi%20di%20Milano-Bicocca/Desktop/UNI/MAGISTRALE/LABORATORIO%20TECNOLOGIE%20QUANTISTICHE/programmi/fit.ipynb#W3sZmlsZQ%3D%3D?line=3'>4</a>\u001b[0m \u001b[39mprint\u001b[39m(m\u001b[39m.\u001b[39mvalues)\n\u001b[1;32m----> <a href='vscode-notebook-cell:/c%3A/Users/marce/OneDrive%20-%20Universita%20degli%20Studi%20di%20Milano-Bicocca/Desktop/UNI/MAGISTRALE/LABORATORIO%20TECNOLOGIE%20QUANTISTICHE/programmi/fit.ipynb#W3sZmlsZQ%3D%3D?line=4'>5</a>\u001b[0m plt\u001b[39m.\u001b[39mplot(freq, s21_module(freq, \u001b[39m*\u001b[39;49mm\u001b[39m.\u001b[39;49mvalues), label\u001b[39m=\u001b[39m\u001b[39m\"\u001b[39m\u001b[39mfit\u001b[39m\u001b[39m\"\u001b[39m)\n",
      "\u001b[1;32mc:\\Users\\marce\\OneDrive - Universita degli Studi di Milano-Bicocca\\Desktop\\UNI\\MAGISTRALE\\LABORATORIO TECNOLOGIE QUANTISTICHE\\programmi\\fit.ipynb Cella 4\u001b[0m in \u001b[0;36ms21_module\u001b[1;34m(x, a, b, c, d, e, f, g, h)\u001b[0m\n\u001b[0;32m      <a href='vscode-notebook-cell:/c%3A/Users/marce/OneDrive%20-%20Universita%20degli%20Studi%20di%20Milano-Bicocca/Desktop/UNI/MAGISTRALE/LABORATORIO%20TECNOLOGIE%20QUANTISTICHE/programmi/fit.ipynb#W3sZmlsZQ%3D%3D?line=3'>4</a>\u001b[0m \u001b[39mdef\u001b[39;00m \u001b[39ms21_module\u001b[39m(x, a, b, c, d, e, f, g, h):\n\u001b[1;32m----> <a href='vscode-notebook-cell:/c%3A/Users/marce/OneDrive%20-%20Universita%20degli%20Studi%20di%20Milano-Bicocca/Desktop/UNI/MAGISTRALE/LABORATORIO%20TECNOLOGIE%20QUANTISTICHE/programmi/fit.ipynb#W3sZmlsZQ%3D%3D?line=4'>5</a>\u001b[0m     \u001b[39mreturn\u001b[39;00m \u001b[39mabs\u001b[39m(f\u001b[39m*\u001b[39;49mx \u001b[39m+\u001b[39m g\u001b[39m*\u001b[39mx\u001b[39m*\u001b[39m\u001b[39m*\u001b[39m\u001b[39m2\u001b[39m \u001b[39m+\u001b[39m h\u001b[39m*\u001b[39mx\u001b[39m*\u001b[39m\u001b[39m*\u001b[39m\u001b[39m3\u001b[39m \u001b[39m+\u001b[39m a\u001b[39m*\u001b[39m(\u001b[39m1\u001b[39m\u001b[39m-\u001b[39mcmath\u001b[39m.\u001b[39mexp(\u001b[39m1\u001b[39mj\u001b[39m*\u001b[39md\u001b[39m*\u001b[39mb\u001b[39m*\u001b[39m(b\u001b[39m*\u001b[39m\u001b[39m*\u001b[39m(\u001b[39m-\u001b[39m\u001b[39m1\u001b[39m) \u001b[39m-\u001b[39m (c)\u001b[39m*\u001b[39m\u001b[39m*\u001b[39m(\u001b[39m-\u001b[39m\u001b[39m1\u001b[39m))\u001b[39m/\u001b[39m(\u001b[39m1\u001b[39m \u001b[39m+\u001b[39m \u001b[39m2\u001b[39mj\u001b[39m*\u001b[39mb\u001b[39m*\u001b[39m(x \u001b[39m-\u001b[39m e)\u001b[39m/\u001b[39mfmin))))\n",
      "\u001b[1;31mTypeError\u001b[0m: can't multiply sequence by non-int of type 'float'"
     ]
    }
   ],
   "source": [
    "least_squares = LeastSquares(freq, yvalues, 0.1, s21_module)\n",
    "m = Minuit(least_squares, a = 1, b= 1e3, c= 6e4, d = -0.5, e=0, f = -1e-9, g = -1e-19, h = 0)  #starting values for our 8 parameters\n",
    "\n",
    "print(m.values)\n",
    "plt.plot(freq, s21_module(freq, *m.values), label=\"fit\")"
   ]
  }
 ],
 "metadata": {
  "kernelspec": {
   "display_name": "Python 3",
   "language": "python",
   "name": "python3"
  },
  "language_info": {
   "codemirror_mode": {
    "name": "ipython",
    "version": 3
   },
   "file_extension": ".py",
   "mimetype": "text/x-python",
   "name": "python",
   "nbconvert_exporter": "python",
   "pygments_lexer": "ipython3",
   "version": "3.9.5"
  },
  "orig_nbformat": 4,
  "vscode": {
   "interpreter": {
    "hash": "89cc385948b8c189c91f983b2971f3e7f8c1833dc3ab6a968c5fa4a950f7fb34"
   }
  }
 },
 "nbformat": 4,
 "nbformat_minor": 2
}
